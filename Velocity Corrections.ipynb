{
 "cells": [
  {
   "cell_type": "code",
   "execution_count": 2,
   "id": "64cc9123-0047-4498-a4f3-512d83f5ed53",
   "metadata": {},
   "outputs": [
    {
     "name": "stdout",
     "output_type": "stream",
     "text": [
      "\n",
      "----- HELCORR.PRO - DEBUG INFO - START ----\n",
      "(obs_long (East positive),obs_lat,obs_alt) Observatory coordinates [deg,m]:  73.8253 18.5593 554\n",
      "(ra,dec) Object coordinates (for epoch 2000.0) [deg]:  101.34383333333334 2.370138888888889\n",
      "(ra,dec) Object coordinates (precessed to epoch 2023.715982) [deg]:  101.65303753064896 2.3438193528504994\n",
      "(ut) Universal time (middle of exposure) [hrs]:  11.468333333730698\n",
      "(jd) Julian date (middle of exposure) (JD):  2460174.9778472222\n",
      "(hjd) Heliocentric Julian date (middle of exposure) (HJD):  2460174.9738130453\n",
      "(gmst) Greenwich mean sidereal time [hrs]:  9.240038415374329\n",
      "(lmst) Local mean sidereal time [hrs]:  14.161725082041016\n",
      "(dlat) Latitude correction [deg]:  -416.93032237856863\n",
      "(lat) Geocentric latitude of observer [deg]:  18.443486021561508\n",
      "(r) Distance of observer from center of earth [m]:  6376589.689868745\n",
      "(v) Rotational velocity of earth at the position of the observer [km/s]:  0.4649883078157614\n",
      "(vdiurnal) Projected earth rotation and earth-moon revolution [km/s]:  -0.4120851990484234\n",
      "(vbar) Barycentric velocity [km/s]:  18.948953242846645\n",
      "(vhel) Heliocentric velocity [km/s]:  18.962948280338583\n",
      "(corr) Vdiurnal+vbar [km/s]:  18.536868043798222\n",
      "----- HELCORR.PRO - DEBUG INFO - END -----\n",
      "\n",
      "LSR correction [km/s]:  -1.31662595218814\n",
      "Positive value means receding (redshift) source, negative value means approaching (blueshift) source\n"
     ]
    }
   ],
   "source": [
    "#!/usr/bin/env python\n",
    "# coding: utf-8\n",
    "\n",
    "# In[9]:\n",
    "\n",
    "# PyAstronomy package requireq: https://pyastronomy.readthedocs.io/en/latest/index.html\n",
    "\n",
    "from __future__ import print_function, division\n",
    "from PyAstronomy import pyasl\n",
    "import math\n",
    "import datetime\n",
    "\n",
    "# Coordinates of telescope\n",
    "longitude = 73.8253\n",
    "latitude = 18.5593\n",
    "altitude = 554\n",
    "\n",
    "# Coordinates of source (RA2000, DEC2000) RA_hr RA_min RA_sec DEC_deg DEC_min DEC_sec. Note DEC must be signed + or -.\n",
    "hd1 = \"6 45 22.52 +2 22 12.5\"\n",
    "obs_ra_2000, obs_dec_2000 = pyasl.coordsSexaToDeg(hd1)\n",
    "\n",
    "# Time of observation converted to Julian Date\n",
    "dt = datetime.datetime(2023, 8, 18, 11, 28, 6)\n",
    "jd = pyasl.jdcnv(dt)\n",
    "\n",
    "# Calculate barycentric correction (debug=True show\n",
    "# various intermediate results)\n",
    "corr, hjd = pyasl.helcorr(longitude, latitude, altitude, obs_ra_2000, obs_dec_2000, jd, debug=True)\n",
    "\n",
    "#print(\"Barycentric correction [km/s]: \", corr)\n",
    "#print(\"Heliocentric Julian day: \", hjd)\n",
    "\n",
    "# Calculate LSR correction\n",
    "v_sun = 20.5 # peculiar velocity (km/s) of sun w.r.t. LSR (The Solar Apex. Nature 162, 920 (1948). https://doi.org/10.1038/162920a0)\n",
    "# solar apex\n",
    "sun_ra = math.radians(270.2)\n",
    "sun_dec = math.radians(28.7)\n",
    "\n",
    "obs_dec = math.radians(obs_dec_2000)\n",
    "obs_ra = math.radians(obs_ra_2000)\n",
    "\n",
    "# equation from https://icts-yebes.oan.es/reports/doc/IT-CDT-2014-10.pdf\n",
    "a = math.cos(sun_dec) * math.cos(obs_dec)\n",
    "b = (math.cos(sun_ra) * math.cos(obs_ra)) + (math.sin(sun_ra) * math.sin(obs_ra))\n",
    "c = math.sin(sun_dec) * math.sin(obs_dec)\n",
    "v_rs = v_sun * ((a * b) + c)\n",
    "\n",
    "v_lsr = corr + v_rs\n",
    "print(\"LSR correction [km/s]: \", -v_lsr)\n",
    "print(\"Positive value means receding (redshift) source, negative value means approaching (blueshift) source\")"
   ]
  }
 ],
 "metadata": {
  "kernelspec": {
   "display_name": "Python 3 (ipykernel)",
   "language": "python",
   "name": "python3"
  },
  "language_info": {
   "codemirror_mode": {
    "name": "ipython",
    "version": 3
   },
   "file_extension": ".py",
   "mimetype": "text/x-python",
   "name": "python",
   "nbconvert_exporter": "python",
   "pygments_lexer": "ipython3",
   "version": "3.10.9"
  }
 },
 "nbformat": 4,
 "nbformat_minor": 5
}
